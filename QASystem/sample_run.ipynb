{
 "cells": [
  {
   "cell_type": "markdown",
   "metadata": {
    "colab_type": "text",
    "id": "-W_y34U0GGDB"
   },
   "source": [
    "## Connect to Google Drive\n"
   ]
  },
  {
   "cell_type": "code",
   "execution_count": null,
   "metadata": {
    "colab": {
     "base_uri": "https://localhost:8080/",
     "height": 128
    },
    "colab_type": "code",
    "id": "vCi2UJ3qFoiR",
    "outputId": "16b6fc4f-f820-476b-9770-7168ecc8c9b5"
   },
   "outputs": [],
   "source": [
    "from google.colab import drive\n",
    "drive.mount(\"/content/drive\", force_remount=True)"
   ]
  },
  {
   "cell_type": "code",
   "execution_count": null,
   "metadata": {
    "colab": {},
    "colab_type": "code",
    "id": "e24YW6BYF8QI"
   },
   "outputs": [],
   "source": [
    "import os\n",
    "os.chdir(\"drive/My Drive/Nanibot_ZaloAIChallenge2019_VietnameseWikiQA/QASystem/\")"
   ]
  },
  {
   "cell_type": "code",
   "execution_count": null,
   "metadata": {
    "colab": {},
    "colab_type": "code",
    "id": "in2NsBJZGCfk"
   },
   "outputs": [],
   "source": [
    "os.environ['TF_CPP_MIN_LOG_LEVEL'] = '3' "
   ]
  },
  {
   "cell_type": "markdown",
   "metadata": {
    "colab_type": "text",
    "id": "IpQXRJGyGbMN"
   },
   "source": [
    "## Hyperparameters"
   ]
  },
  {
   "cell_type": "code",
   "execution_count": null,
   "metadata": {
    "colab": {},
    "colab_type": "code",
    "id": "r4XAXPDwGdLb"
   },
   "outputs": [],
   "source": [
    "MAX_SEQ_LEN = 200\n",
    "LEARNING_RATE = 2e-5\n",
    "BATCH_SIZE = 16\n",
    "EPOCHS = 2\n",
    "DROPOUT_RATE = 0.1\n",
    "WARMUP_PROPORTION = 0.1\n",
    "\n",
    "BERT_MODEL_PATH = \"./model/multi_cased/\"\n",
    "DATASET_PATH = \"./dataset/\"\n",
    "MODEL_PATH = \"./finetuned/classifier/\""
   ]
  },
  {
   "cell_type": "markdown",
   "metadata": {},
   "source": [
    "## Train/Evaluation/Predict"
   ]
  },
  {
   "cell_type": "code",
   "execution_count": null,
   "metadata": {
    "colab": {
     "base_uri": "https://localhost:8080/",
     "height": 1000
    },
    "colab_type": "code",
    "id": "upDNpwYGG2-p",
    "outputId": "47ce52e1-39b4-4966-e23f-30e7b3ba76ce"
   },
   "outputs": [],
   "source": [
    "!python run_zalo.py \\\n",
    "  --mode train \\\n",
    "  --dataset_path $DATASET_PATH \\\n",
    "  --bert_model_path $BERT_MODEL_PATH \\\n",
    "  --model_path $MODEL_PATH \\\n",
    "  --max_sequence_len $MAX_SEQ_LEN \\\n",
    "  --model_learning_rate $LEARNING_RATE \\\n",
    "  --model_batch_size $BATCH_SIZE \\\n",
    "  --train_epochs $EPOCHS \\\n",
    "  --train_dropout_rate $DROPOUT_RATE \\\n",
    "  --bert_warmup_proportion $WARMUP_PROPORTION \\\n",
    "  --force_data_balance True"
   ]
  },
  {
   "cell_type": "code",
   "execution_count": null,
   "metadata": {
    "colab": {},
    "colab_type": "code",
    "id": "7q-PEUTpHxzY"
   },
   "outputs": [],
   "source": [
    "!python run_zalo.py \\\n",
    "  --mode predict_test \\\n",
    "  --dataset_path $DATASET_PATH \\\n",
    "  --bert_model_path $BERT_MODEL_PATH \\\n",
    "  --model_path $MODEL_PATH \\\n",
    "  --max_sequence_len $MAX_SEQ_LEN \\"
   ]
  },
  {
   "cell_type": "code",
   "execution_count": null,
   "metadata": {
    "colab": {},
    "colab_type": "code",
    "id": "6I8HzI8SN7Y1"
   },
   "outputs": [],
   "source": [
    "!python run_zalo.py \\\n",
    "  --mode eval \\\n",
    "  --dataset_path $DATASET_PATH \\\n",
    "  --bert_model_path $BERT_MODEL_PATH \\\n",
    "  --model_path $MODEL_PATH \\\n",
    "  --max_sequence_len $MAX_SEQ_LEN \\"
   ]
  }
 ],
 "metadata": {
  "accelerator": "GPU",
  "colab": {
   "name": "Zalo19_Bert",
   "provenance": []
  },
  "kernelspec": {
   "display_name": "Python 3",
   "language": "python",
   "name": "python3"
  },
  "language_info": {
   "codemirror_mode": {
    "name": "ipython",
    "version": 3
   },
   "file_extension": ".py",
   "mimetype": "text/x-python",
   "name": "python",
   "nbconvert_exporter": "python",
   "pygments_lexer": "ipython3",
   "version": "3.7.4"
  }
 },
 "nbformat": 4,
 "nbformat_minor": 1
}
