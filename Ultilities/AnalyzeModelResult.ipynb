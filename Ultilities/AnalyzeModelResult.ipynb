{
 "cells": [
  {
   "cell_type": "markdown",
   "metadata": {},
   "source": [
    "# Import"
   ]
  },
  {
   "cell_type": "code",
   "execution_count": 38,
   "metadata": {},
   "outputs": [
    {
     "name": "stdout",
     "output_type": "stream",
     "text": [
      "Complete\n"
     ]
    }
   ],
   "source": [
    "import pandas as pd\n",
    "import numpy as np\n",
    "import matplotlib.pyplot as plt\n",
    "from itertools import product\n",
    "from sklearn.metrics import confusion_matrix, classification_report\n",
    "\n",
    "pd.set_option('expand_frame_repr', False)\n",
    "pd.set_option('display.max_colwidth', 0)\n",
    "\n",
    "%matplotlib inline\n",
    "print(\"Complete\")"
   ]
  },
  {
   "cell_type": "markdown",
   "metadata": {},
   "source": [
    "# Input"
   ]
  },
  {
   "cell_type": "code",
   "execution_count": 39,
   "metadata": {},
   "outputs": [],
   "source": [
    "filePathDataEval = r'C:\\Users\\nguyen.tt1\\Downloads\\eval.csv'\n",
    "filePathDataTrain = r'C:\\Users\\nguyen.tt1\\Documents\\Nanibot_ZaloAIChallenge2019_VietnameseWikiQA\\Dataset\\train.json'\n",
    "nTopQAPair = 10"
   ]
  },
  {
   "cell_type": "code",
   "execution_count": 40,
   "metadata": {},
   "outputs": [],
   "source": [
    "evalData = pd.read_csv(filePathDataEval, encoding=\"utf8\")\n",
    "trainData = pd.read_json(filePathDataTrain, encoding=\"utf8\")"
   ]
  },
  {
   "cell_type": "code",
   "execution_count": 41,
   "metadata": {},
   "outputs": [],
   "source": [
    "evalData.insert(\n",
    "    len(evalData.columns),\n",
    "    'IsCorrect',\n",
    "    ~(evalData['prediction'] ^ evalData['label'])\n",
    ")"
   ]
  },
  {
   "cell_type": "markdown",
   "metadata": {},
   "source": [
    "# Utilities"
   ]
  },
  {
   "cell_type": "code",
   "execution_count": 42,
   "metadata": {},
   "outputs": [],
   "source": [
    "def plotConfusionMatrix(cm, normalize=False):\n",
    "    cmap = plt.get_cmap('Greens')\n",
    "\n",
    "    plt.imshow(cm,cmap=cmap)\n",
    "    plt.colorbar()\n",
    "    plt.xticks([0,1],['True','False'])\n",
    "    plt.yticks([0,1],['True','False'])\n",
    "    \n",
    "    if normalize:\n",
    "        cm = (cm.astype('float') / cm.sum(axis=1)[:, np.newaxis])\n",
    "    \n",
    "    for i, j in product(range(cm.shape[0]), range(cm.shape[1])):\n",
    "        if normalize:\n",
    "            plt.text(j, i, \"{:0.4f}%\\n\".format(cm[i, j]*100),\n",
    "                    ha=\"center\",\n",
    "                    va=\"center\",\n",
    "                    size='large',\n",
    "                    color=\"black\",\n",
    "                    weight=\"bold\"\n",
    "            )\n",
    "        else:\n",
    "            plt.text(j, i, \"{:,}\\n\".format(cm[i, j]),\n",
    "                    ha=\"center\",\n",
    "                    va=\"center\",\n",
    "                    size='large',\n",
    "                    color=\"black\",\n",
    "                    weight=\"bold\"\n",
    "            )\n",
    "\n",
    "    plt.tight_layout()\n",
    "    plt.ylabel('True label')\n",
    "    plt.xlabel('Predicted label')\n",
    "    \n",
    "    if normalize:\n",
    "        plt.title(\"Confusion matrix - Normalized\\n\\n\")\n",
    "    else:\n",
    "        plt.title(\"Confusion matrix\\n\\n\")\n",
    "    plt.show()"
   ]
  },
  {
   "cell_type": "code",
   "execution_count": 43,
   "metadata": {},
   "outputs": [],
   "source": [
    "def getTopQAPair(nQAPair, useCorrectPrediction=True,sortAsc=True):\n",
    "    if (useCorrectPrediction):\n",
    "        topQA = evalData[\n",
    "            evalData['IsCorrect']\n",
    "        ].sort_values(by=['probabilities'], ascending=sortAsc).iloc[:nQAPair][['guid','prediction','probabilities']]\n",
    "    else:\n",
    "        topQA = evalData[\n",
    "            ~evalData['IsCorrect']\n",
    "        ].sort_values(by=['probabilities'], ascending=sortAsc).iloc[:nQAPair][['guid','prediction','probabilities']]\n",
    "\n",
    "    return pd.merge(\n",
    "        right=trainData,\n",
    "        left=topQA,\n",
    "        right_on='id',\n",
    "        left_on='guid'\n",
    "    )[['id','question','title','text','label','prediction','probabilities']]"
   ]
  },
  {
   "cell_type": "markdown",
   "metadata": {},
   "source": [
    "# Confusion Matrix"
   ]
  },
  {
   "cell_type": "code",
   "execution_count": null,
   "metadata": {},
   "outputs": [],
   "source": [
    "plotConfusionMatrix(\n",
    "    confusion_matrix(\n",
    "            evalData['label'],\n",
    "            evalData['prediction']\n",
    "    )\n",
    ")\n",
    "plotConfusionMatrix(\n",
    "    confusion_matrix(\n",
    "            evalData['label'],\n",
    "            evalData['prediction']\n",
    "    ),\n",
    "    normalize=True\n",
    ")\n",
    "print(\"Classification report\\n\")\n",
    "print(classification_report(\n",
    "    evalData['label'],\n",
    "    evalData['prediction']\n",
    "))"
   ]
  },
  {
   "cell_type": "markdown",
   "metadata": {},
   "source": [
    "# Top x QA pairs with the most confidence & correct"
   ]
  },
  {
   "cell_type": "code",
   "execution_count": null,
   "metadata": {},
   "outputs": [],
   "source": [
    "getTopQAPair(nTopQAPair, useCorrectPrediction=True, sortAsc=False)"
   ]
  },
  {
   "cell_type": "markdown",
   "metadata": {},
   "source": [
    "# Top x QA pairs with the least confidence but correct"
   ]
  },
  {
   "cell_type": "code",
   "execution_count": null,
   "metadata": {},
   "outputs": [],
   "source": [
    "getTopQAPair(nTopQAPair, useCorrectPrediction=True, sortAsc=True)"
   ]
  },
  {
   "cell_type": "markdown",
   "metadata": {},
   "source": [
    "# Top x QA pairs with the most confidence but incorrect"
   ]
  },
  {
   "cell_type": "code",
   "execution_count": null,
   "metadata": {},
   "outputs": [],
   "source": [
    "getTopQAPair(nTopQAPair, useCorrectPrediction=False, sortAsc=False)"
   ]
  },
  {
   "cell_type": "markdown",
   "metadata": {},
   "source": [
    "# Top x QA pairs with the least confidence & incorrect"
   ]
  },
  {
   "cell_type": "code",
   "execution_count": null,
   "metadata": {},
   "outputs": [],
   "source": [
    "getTopQAPair(nTopQAPair, useCorrectPrediction=False, sortAsc=True)"
   ]
  }
 ],
 "metadata": {
  "kernelspec": {
   "display_name": "Python 3",
   "language": "python",
   "name": "python3"
  },
  "language_info": {
   "codemirror_mode": {
    "name": "ipython",
    "version": 3
   },
   "file_extension": ".py",
   "mimetype": "text/x-python",
   "name": "python",
   "nbconvert_exporter": "python",
   "pygments_lexer": "ipython3",
   "version": "3.7.5"
  }
 },
 "nbformat": 4,
 "nbformat_minor": 4
}
